{
  "nbformat": 4,
  "nbformat_minor": 0,
  "metadata": {
    "colab": {
      "provenance": [],
      "gpuType": "T4"
    },
    "kernelspec": {
      "name": "python3",
      "display_name": "Python 3"
    },
    "accelerator": "GPU"
  },
  "cells": [
    {
      "metadata": {
        "id": "RfO-8wwO1vga"
      },
      "cell_type": "markdown",
      "source": [
        "#Demo 1 - Operações básicas em DL via Keras (Base Fashion_MNIST)\n",
        "\n",
        "Dr. Ahirton Lopes\n",
        "\n",
        "Se você quiser digitar junto ...\n",
        "\n",
        "Execute um Notebook Jupyter local ou:\n",
        "\n",
        "Binder: Notebook Jupyter no Navegador\n",
        "\n",
        "Colaboratory: \"Google Docs para Notebooks Jupyter\""
      ]
    },
    {
      "metadata": {
        "id": "iTqSYNVew2ZV"
      },
      "cell_type": "code",
      "source": [
        "import keras\n",
        "from keras.datasets import fashion_mnist\n",
        "from matplotlib import pyplot\n",
        "from random import randint\n",
        "from keras.models import Sequential"
      ],
      "execution_count": 1,
      "outputs": []
    },
    {
      "metadata": {
        "id": "16WAjAMixQ5l",
        "colab": {
          "base_uri": "https://localhost:8080/"
        },
        "outputId": "e8871c31-1555-4b77-9f8c-9ef3dd45cc55"
      },
      "cell_type": "code",
      "source": [
        "# Configurar nossos sets de treinamento e teste\n",
        "(x_train, y_train), (x_test, y_test) = fashion_mnist.load_data()"
      ],
      "execution_count": 2,
      "outputs": [
        {
          "output_type": "stream",
          "name": "stdout",
          "text": [
            "Downloading data from https://storage.googleapis.com/tensorflow/tf-keras-datasets/train-labels-idx1-ubyte.gz\n",
            "29515/29515 [==============================] - 0s 0us/step\n",
            "Downloading data from https://storage.googleapis.com/tensorflow/tf-keras-datasets/train-images-idx3-ubyte.gz\n",
            "26421880/26421880 [==============================] - 2s 0us/step\n",
            "Downloading data from https://storage.googleapis.com/tensorflow/tf-keras-datasets/t10k-labels-idx1-ubyte.gz\n",
            "5148/5148 [==============================] - 0s 0us/step\n",
            "Downloading data from https://storage.googleapis.com/tensorflow/tf-keras-datasets/t10k-images-idx3-ubyte.gz\n",
            "4422102/4422102 [==============================] - 1s 0us/step\n"
          ]
        }
      ]
    },
    {
      "metadata": {
        "id": "FcVCZakTyPYv",
        "outputId": "cc6e609c-b9e5-47eb-9fb2-85faaefbf7a8",
        "colab": {
          "base_uri": "https://localhost:8080/",
          "height": 430
        }
      },
      "cell_type": "code",
      "source": [
        "pyplot.imshow(x_train[randint(0, x_train.shape[0])], cmap='Blues_r'); #Testar com outros itens - só mudar o cmap - cmaps possíveis: #Testar com outros itens - só mudar o cmap - cmaps possíveis: Accent, Accent_r, Blues, Blues_r, BrBG, BrBG_r, BuGn, BuGn_r, BuPu, BuPu_r, CMRmap, CMRmap_r, Dark2, Dark2_r, GnBu, GnBu_r, Greens, Greens_r, Greys, Greys_r, OrRd, OrRd_r, Oranges, Oranges_r e +"
      ],
      "execution_count": 3,
      "outputs": [
        {
          "output_type": "display_data",
          "data": {
            "text/plain": [
              "<Figure size 640x480 with 1 Axes>"
            ],
            "image/png": "[encoded data removed]"
          },
          "metadata": {}
        }
      ]
    },
    {
      "metadata": {
        "id": "cYSq5yuQxQ-6"
      },
      "cell_type": "code",
      "source": [
        "# Definindo nosso modelo de CNN\n",
        "\n",
        "# Redefinindo as dimensões de entrada para garantir que a convolução funcione\n",
        "\n",
        "img_rows, img_cols = 28, 28\n",
        "x_train = x_train.reshape(x_train.shape[0], img_rows, img_cols, 1)\n",
        "x_test = x_test.reshape(x_test.shape[0], img_rows, img_cols, 1)\n",
        "input_shape = (img_rows, img_cols, 1)"
      ],
      "execution_count": 4,
      "outputs": []
    },
    {
      "metadata": {
        "id": "eamLR-bSxRB1"
      },
      "cell_type": "code",
      "source": [
        "# Convertendo vetores de classes em matrizes de classe binária\n",
        "\n",
        "y_train = keras.utils.to_categorical(y_train, 10)\n",
        "y_test = keras.utils.to_categorical(y_test, 10)"
      ],
      "execution_count": 5,
      "outputs": []
    },
    {
      "metadata": {
        "id": "cgbkCAE6xREc"
      },
      "cell_type": "code",
      "source": [
        "from keras.layers import Conv2D, Dense, Flatten, MaxPooling2D"
      ],
      "execution_count": 6,
      "outputs": []
    },
    {
      "metadata": {
        "id": "SGM7kvNixRG9"
      },
      "cell_type": "code",
      "source": [
        "# Definindo nosso modelo\n",
        "\n",
        "model = Sequential()\n",
        "model.add(Conv2D(32,\n",
        "         kernel_size=(3, 3),\n",
        "         activation='relu',\n",
        "         input_shape=input_shape))\n",
        "model.add(Conv2D(64, (3, 3), activation='relu'))\n",
        "model.add(MaxPooling2D(pool_size=(2, 2)))\n",
        "model.add(Flatten())\n",
        "model.add(Dense(128, activation='relu'))\n",
        "model.add(Dense(10, activation='softmax'))"
      ],
      "execution_count": 7,
      "outputs": []
    },
    {
      "metadata": {
        "id": "qEZQCHnYxRJd",
        "outputId": "b39688dd-fa36-438e-ac2d-12fd5705e0ed",
        "colab": {
          "base_uri": "https://localhost:8080/"
        }
      },
      "cell_type": "code",
      "source": [
        "model.summary()"
      ],
      "execution_count": 8,
      "outputs": [
        {
          "output_type": "stream",
          "name": "stdout",
          "text": [
            "Model: \"sequential\"\n",
            "_________________________________________________________________\n",
            " Layer (type)                Output Shape              Param #   \n",
            "=================================================================\n",
            " conv2d (Conv2D)             (None, 26, 26, 32)        320       \n",
            "                                                                 \n",
            " conv2d_1 (Conv2D)           (None, 24, 24, 64)        18496     \n",
            "                                                                 \n",
            " max_pooling2d (MaxPooling2  (None, 12, 12, 64)        0         \n",
            " D)                                                              \n",
            "                                                                 \n",
            " flatten (Flatten)           (None, 9216)              0         \n",
            "                                                                 \n",
            " dense (Dense)               (None, 128)               1179776   \n",
            "                                                                 \n",
            " dense_1 (Dense)             (None, 10)                1290      \n",
            "                                                                 \n",
            "=================================================================\n",
            "Total params: 1199882 (4.58 MB)\n",
            "Trainable params: 1199882 (4.58 MB)\n",
            "Non-trainable params: 0 (0.00 Byte)\n",
            "_________________________________________________________________\n"
          ]
        }
      ]
    },
    {
      "metadata": {
        "id": "LZKCkJoxxRL_"
      },
      "cell_type": "code",
      "source": [
        "model.compile(loss='categorical_crossentropy',\n",
        "              optimizer='adam',\n",
        "              metrics=['accuracy'])"
      ],
      "execution_count": 9,
      "outputs": []
    },
    {
      "metadata": {
        "id": "5KCfiCJ3xROf",
        "outputId": "2d49929b-db9a-43d3-81ee-94bdd1dcfd3b",
        "colab": {
          "base_uri": "https://localhost:8080/"
        }
      },
      "cell_type": "code",
      "source": [
        "# Definindo nosso treinamento\n",
        "\n",
        "training = model.fit(x_train,\n",
        "                     y_train,\n",
        "                     epochs=1,\n",
        "                     verbose=True,\n",
        "                     validation_split=0.1)"
      ],
      "execution_count": 10,
      "outputs": [
        {
          "output_type": "stream",
          "name": "stdout",
          "text": [
            "1688/1688 [==============================] - 13s 5ms/step - loss: 0.6886 - accuracy: 0.8474 - val_loss: 0.3352 - val_accuracy: 0.8767\n"
          ]
        }
      ]
    },
    {
      "metadata": {
        "id": "elVK7mEyxRRJ",
        "outputId": "f4c3b866-1c36-47d5-a6ee-b6a0a0d9c2fd",
        "colab": {
          "base_uri": "https://localhost:8080/"
        }
      },
      "cell_type": "code",
      "source": [
        "loss, accuracy = model.evaluate(x_test,\n",
        "                                y_test,\n",
        "                                verbose=True)\n",
        "print(f\"Test loss: {loss:.3}\")\n",
        "print(f\"Test accuracy: {accuracy:.3%}\")"
      ],
      "execution_count": 11,
      "outputs": [
        {
          "output_type": "stream",
          "name": "stdout",
          "text": [
            "313/313 [==============================] - 1s 3ms/step - loss: 0.3600 - accuracy: 0.8717\n",
            "Test loss: 0.36\n",
            "Test accuracy: 87.170%\n"
          ]
        }
      ]
    }
  ]
}