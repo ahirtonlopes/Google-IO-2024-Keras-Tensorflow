{
  "nbformat": 4,
  "nbformat_minor": 0,
  "metadata": {
    "colab": {
      "provenance": []
    },
    "language_info": {
      "codemirror_mode": {
        "name": "ipython",
        "version": 3
      },
      "file_extension": ".py",
      "mimetype": "text/x-python",
      "name": "python",
      "nbconvert_exporter": "python",
      "pygments_lexer": "ipython3",
      "version": "3.5.2"
    },
    "kernelspec": {
      "name": "python3",
      "display_name": "Python 3"
    },
    "accelerator": "GPU"
  },
  "cells": [
    {
      "cell_type": "markdown",
      "metadata": {
        "id": "-qAGWGzAUXgv"
      },
      "source": [
        "# Demo 3 - Classificação de sentimento em reviews de filmes com base do IMDB via RNNs (Recurrent Neural Networks)\n",
        "\n",
        "Dr. Ahirton Lopes\n",
        "\n",
        "Neste notebook iremos treinar uma Rede Neural Recorrent (RNN) para classificação de sentimento usando Keras (com Tensorflow como backend). Primeiro, vamos às importações necessárias e a posteriore o Keras nos diz qual backend (Theano, Tensorflow, CNTK) ele estará usando."
      ]
    },
    {
      "cell_type": "code",
      "metadata": {
        "id": "h4oRcDCaUXgx"
      },
      "source": [
        "%matplotlib inline\n",
        "\n",
        "from keras.preprocessing import sequence\n",
        "from keras.models import Sequential\n",
        "from keras.layers import Dense, Embedding, Dropout\n",
        "from keras.layers import LSTM\n",
        "from keras.datasets import imdb\n",
        "\n",
        "from distutils.version import LooseVersion as LV\n",
        "from keras import __version__\n",
        "from keras import backend as K\n",
        "\n",
        "from IPython.display import SVG\n",
        "from tensorflow.keras.utils import model_to_dot\n",
        "\n",
        "import numpy as np\n",
        "import matplotlib.pyplot as plt\n",
        "import seaborn as sns\n",
        "sns.set()"
      ],
      "execution_count": null,
      "outputs": []
    },
    {
      "cell_type": "markdown",
      "metadata": {
        "id": "K7yp39afUXg1"
      },
      "source": [
        "## Base de dados do IMDB (https://www.kaggle.com/iarunava/imdb-movie-reviews-dataset)\n",
        "\n",
        "Em seguida, carregaremos o conjunto de dados do IMDB. Na primeira vez, talvez tenhamos que baixar os dados, o que pode demorar um pouco. O conjunto de dados contém 50000 avaliações de filmes do Internet Movie Database, dividido em 25.000 avaliações para treinamento e 25.000 avaliações para testes. Metade dos comentários são positivos (1) e metade são negativos (0).\n",
        "\n",
        "O conjunto de dados já foi pré-processado e cada palavra foi substituída por um índice inteiro.\n",
        "\n",
        "As revisões são, portanto, representadas como sequências de comprimento variável de inteiros, como consta:\n",
        "\n",
        "(Os índices de palavras começam em \"3\", como \"1\" é usado para marcar o início de uma revisão e \"2\" representa todas as palavras fora do vocabulário existente. \"0\" será usado posteriormente para preencher comentários mais curtos em um tamanho fixo .)\n",
        "\n",
        "\n",
        "* Mais informações e créditos originais:\n",
        "\n",
        "Maas, Andrew L. and Daly, Raymond E. and Pham, Peter T. and Huang, Dan and Ng, Andrew Y. and Potts, Christopher, \"Learning Word Vectors for Sentiment Analysis\", em Proceedings of the 49th Annual Meeting of the Association for Computational Linguistics: Human Language Technologies, June, 2011. Portland, Oregon, USA. Association for Computational Linguistics. Pages 142 a150. Disponível em: http://www.aclweb.org/anthology/P11-1015"
      ]
    },
    {
      "cell_type": "code",
      "metadata": {
        "id": "lrzgGTpsUXg2",
        "colab": {
          "base_uri": "https://localhost:8080/"
        },
        "outputId": "0cb6837f-4487-43ba-850d-114de4f09fc7"
      },
      "source": [
        "# número de palavras mais frequentes para se utilizar:\n",
        "\n",
        "nb_words = 10000\n",
        "\n",
        "# cortar textos a partir do seguinte número de palavras (maxlenght):\n",
        "\n",
        "maxlen = 80\n",
        "\n",
        "print('Carregando...')\n",
        "(x_train, y_train), (x_test, y_test) = imdb.load_data(num_words=nb_words)\n",
        "print('x_train:', x_train.shape)\n",
        "print('x_test:', x_test.shape)\n",
        "print()\n",
        "\n",
        "print('Sequencias (samples x time)')\n",
        "x_train = sequence.pad_sequences(x_train, maxlen=maxlen)\n",
        "x_test = sequence.pad_sequences(x_test, maxlen=maxlen)\n",
        "print('x_train shape:', x_train.shape)\n",
        "print('x_test shape:', x_test.shape)"
      ],
      "execution_count": null,
      "outputs": [
        {
          "output_type": "stream",
          "name": "stdout",
          "text": [
            "Carregando...\n",
            "Downloading data from https://storage.googleapis.com/tensorflow/tf-keras-datasets/imdb.npz\n",
            "17464789/17464789 [==============================] - 2s 0us/step\n",
            "x_train: (25000,)\n",
            "x_test: (25000,)\n",
            "\n",
            "Sequencias (samples x time)\n",
            "x_train shape: (25000, 80)\n",
            "x_test shape: (25000, 80)\n"
          ]
        }
      ]
    },
    {
      "cell_type": "markdown",
      "metadata": {
        "id": "yXWrBa2pUXg4"
      },
      "source": [
        "Mostrando nosso primeiro review no set de treinamento:"
      ]
    },
    {
      "cell_type": "code",
      "metadata": {
        "id": "NyMoRVNjUXg5",
        "colab": {
          "base_uri": "https://localhost:8080/"
        },
        "outputId": "c96a33d3-5a42-470e-de4b-6dcc48a64cb4"
      },
      "source": [
        "print(\"Primeiro review no set de treinamento:\\n \\n\", x_train[0], \"comprimento:\", len(x_train[0]), \"classe:\", y_train[0])"
      ],
      "execution_count": null,
      "outputs": [
        {
          "output_type": "stream",
          "name": "stdout",
          "text": [
            "Primeiro review no set de treinamento:\n",
            " \n",
            " [  15  256    4    2    7 3766    5  723   36   71   43  530  476   26\n",
            "  400  317   46    7    4    2 1029   13  104   88    4  381   15  297\n",
            "   98   32 2071   56   26  141    6  194 7486   18    4  226   22   21\n",
            "  134  476   26  480    5  144   30 5535   18   51   36   28  224   92\n",
            "   25  104    4  226   65   16   38 1334   88   12   16  283    5   16\n",
            " 4472  113  103   32   15   16 5345   19  178   32] comprimento: 80 classe: 1\n"
          ]
        }
      ]
    },
    {
      "cell_type": "markdown",
      "metadata": {
        "id": "V4HY7sH2UXg7"
      },
      "source": [
        "## Inicialização\n",
        "\n",
        "Vamos criar um modelo RNN que tenha uma (ou, opcionalmente, duas) camadas LSTM e de Dropout.\n",
        "\n",
        "A primeira camada na rede é uma camada de Embedding que converte índices inteiros em vetores densos de comprimento ´embedding_dims`. A camada de saída contém um único neurônio e uma não-linearidade do tipo sigmóide para coincidir com a groundtruth binária (`y_train`).\n",
        "\n",
        "Finalmente, nós `compilamos ()` o modelo, usando entropia cruzada binária como a função de perda e [* RMSprop *] (https://keras.io/optimizers/#rmsprop) como otimizador."
      ]
    },
    {
      "cell_type": "code",
      "metadata": {
        "id": "OaD2LN7dUXg8",
        "colab": {
          "base_uri": "https://localhost:8080/"
        },
        "outputId": "75ded897-b01c-4813-988f-a43bec6a9e34"
      },
      "source": [
        "# Parâmetros do modelo:\n",
        "\n",
        "embedding_dims = 50\n",
        "lstm_units = 32\n",
        "\n",
        "print('Construindo nosso modelo...')\n",
        "model = Sequential()\n",
        "\n",
        "model.add(Embedding(nb_words,\n",
        "                    embedding_dims,\n",
        "                    input_length=maxlen))\n",
        "model.add(Dropout(0.2))\n",
        "\n",
        "#se estiver executando sem GPU:\n",
        "\n",
        "model.add(LSTM(lstm_units))\n",
        "\n",
        "# se estiver executando numa GPU:\n",
        "\n",
        "#model.add(CuDNNLSTM(lstm_units, return_sequences=True))\n",
        "\n",
        "# Para empilhar várias camadas RNN, todas as camadas RNN, exceto a última\n",
        "# precisam ter \"return_sequences = True\". Um exemplo de uso de duas camadas RNN:\n",
        "\n",
        "#model.add(LSTM(lstm_units, return_sequences=True))\n",
        "#model.add(LSTM(lstm_units))\n",
        "\n",
        "model.add(Dense(1, activation='sigmoid'))\n",
        "\n",
        "# Tentem utilizar outros otimizadores e configurações\n",
        "# Me mandem os resultados obtidos como atividade avaliativa (ATV 3)\n",
        "\n",
        "model.compile(loss='binary_crossentropy',\n",
        "              optimizer='rmsprop',\n",
        "              metrics=['accuracy'])\n",
        "print(model.summary())"
      ],
      "execution_count": null,
      "outputs": [
        {
          "output_type": "stream",
          "name": "stdout",
          "text": [
            "Construindo nosso modelo...\n",
            "Model: \"sequential\"\n",
            "_________________________________________________________________\n",
            " Layer (type)                Output Shape              Param #   \n",
            "=================================================================\n",
            " embedding (Embedding)       (None, 80, 50)            500000    \n",
            "                                                                 \n",
            " dropout (Dropout)           (None, 80, 50)            0         \n",
            "                                                                 \n",
            " lstm (LSTM)                 (None, 32)                10624     \n",
            "                                                                 \n",
            " dense (Dense)               (None, 1)                 33        \n",
            "                                                                 \n",
            "=================================================================\n",
            "Total params: 510657 (1.95 MB)\n",
            "Trainable params: 510657 (1.95 MB)\n",
            "Non-trainable params: 0 (0.00 Byte)\n",
            "_________________________________________________________________\n",
            "None\n"
          ]
        }
      ]
    },
    {
      "cell_type": "code",
      "metadata": {
        "id": "pQIbt-yGUXg-",
        "colab": {
          "base_uri": "https://localhost:8080/",
          "height": 709
        },
        "outputId": "92d7e87c-740a-4516-cf64-9d2d17ff471c"
      },
      "source": [
        "SVG(model_to_dot(model, show_shapes=True).create(prog='dot', format='svg'))"
      ],
      "execution_count": null,
      "outputs": [
        {
          "output_type": "execute_result",
          "data": {
            "text/plain": [
              "<IPython.core.display.SVG object>"
            ],
            "image/svg+xml": "<svg xmlns=\"http://www.w3.org/2000/svg\" xmlns:xlink=\"http://www.w3.org/1999/xlink\" width=\"347pt\" height=\"516pt\" viewBox=\"0.00 0.00 260.00 387.00\">\n<g id=\"graph0\" class=\"graph\" transform=\"scale(1.33 1.33) rotate(0) translate(4 383)\">\n<title>G</title>\n<polygon fill=\"white\" stroke=\"transparent\" points=\"-4,4 -4,-383 256,-383 256,4 -4,4\"/>\n<!-- 139638547823056 -->\n<g id=\"node1\" class=\"node\">\n<title>139638547823056</title>\n<polygon fill=\"none\" stroke=\"black\" points=\"0,-332.5 0,-378.5 252,-378.5 252,-332.5 0,-332.5\"/>\n<text text-anchor=\"middle\" x=\"56\" y=\"-363.3\" font-family=\"Times,serif\" font-size=\"14.00\">embedding_input</text>\n<polyline fill=\"none\" stroke=\"black\" points=\"0,-355.5 112,-355.5 \"/>\n<text text-anchor=\"middle\" x=\"56\" y=\"-340.3\" font-family=\"Times,serif\" font-size=\"14.00\">InputLayer</text>\n<polyline fill=\"none\" stroke=\"black\" points=\"112,-332.5 112,-378.5 \"/>\n<text text-anchor=\"middle\" x=\"139.5\" y=\"-363.3\" font-family=\"Times,serif\" font-size=\"14.00\">input:</text>\n<polyline fill=\"none\" stroke=\"black\" points=\"112,-355.5 167,-355.5 \"/>\n<text text-anchor=\"middle\" x=\"139.5\" y=\"-340.3\" font-family=\"Times,serif\" font-size=\"14.00\">output:</text>\n<polyline fill=\"none\" stroke=\"black\" points=\"167,-332.5 167,-378.5 \"/>\n<text text-anchor=\"middle\" x=\"209.5\" y=\"-363.3\" font-family=\"Times,serif\" font-size=\"14.00\">[(None, 80)]</text>\n<polyline fill=\"none\" stroke=\"black\" points=\"167,-355.5 252,-355.5 \"/>\n<text text-anchor=\"middle\" x=\"209.5\" y=\"-340.3\" font-family=\"Times,serif\" font-size=\"14.00\">[(None, 80)]</text>\n</g>\n<!-- 139638487131008 -->\n<g id=\"node2\" class=\"node\">\n<title>139638487131008</title>\n<polygon fill=\"none\" stroke=\"black\" points=\"10,-249.5 10,-295.5 242,-295.5 242,-249.5 10,-249.5\"/>\n<text text-anchor=\"middle\" x=\"50\" y=\"-280.3\" font-family=\"Times,serif\" font-size=\"14.00\">embedding</text>\n<polyline fill=\"none\" stroke=\"black\" points=\"10,-272.5 90,-272.5 \"/>\n<text text-anchor=\"middle\" x=\"50\" y=\"-257.3\" font-family=\"Times,serif\" font-size=\"14.00\">Embedding</text>\n<polyline fill=\"none\" stroke=\"black\" points=\"90,-249.5 90,-295.5 \"/>\n<text text-anchor=\"middle\" x=\"117.5\" y=\"-280.3\" font-family=\"Times,serif\" font-size=\"14.00\">input:</text>\n<polyline fill=\"none\" stroke=\"black\" points=\"90,-272.5 145,-272.5 \"/>\n<text text-anchor=\"middle\" x=\"117.5\" y=\"-257.3\" font-family=\"Times,serif\" font-size=\"14.00\">output:</text>\n<polyline fill=\"none\" stroke=\"black\" points=\"145,-249.5 145,-295.5 \"/>\n<text text-anchor=\"middle\" x=\"193.5\" y=\"-280.3\" font-family=\"Times,serif\" font-size=\"14.00\">(None, 80)</text>\n<polyline fill=\"none\" stroke=\"black\" points=\"145,-272.5 242,-272.5 \"/>\n<text text-anchor=\"middle\" x=\"193.5\" y=\"-257.3\" font-family=\"Times,serif\" font-size=\"14.00\">(None, 80, 50)</text>\n</g>\n<!-- 139638547823056&#45;&gt;139638487131008 -->\n<g id=\"edge1\" class=\"edge\">\n<title>139638547823056-&gt;139638487131008</title>\n<path fill=\"none\" stroke=\"black\" d=\"M126,-332.37C126,-324.15 126,-314.66 126,-305.73\"/>\n<polygon fill=\"black\" stroke=\"black\" points=\"129.5,-305.61 126,-295.61 122.5,-305.61 129.5,-305.61\"/>\n</g>\n<!-- 139638547821472 -->\n<g id=\"node3\" class=\"node\">\n<title>139638547821472</title>\n<polygon fill=\"none\" stroke=\"black\" points=\"19,-166.5 19,-212.5 233,-212.5 233,-166.5 19,-166.5\"/>\n<text text-anchor=\"middle\" x=\"50\" y=\"-197.3\" font-family=\"Times,serif\" font-size=\"14.00\">dropout</text>\n<polyline fill=\"none\" stroke=\"black\" points=\"19,-189.5 81,-189.5 \"/>\n<text text-anchor=\"middle\" x=\"50\" y=\"-174.3\" font-family=\"Times,serif\" font-size=\"14.00\">Dropout</text>\n<polyline fill=\"none\" stroke=\"black\" points=\"81,-166.5 81,-212.5 \"/>\n<text text-anchor=\"middle\" x=\"108.5\" y=\"-197.3\" font-family=\"Times,serif\" font-size=\"14.00\">input:</text>\n<polyline fill=\"none\" stroke=\"black\" points=\"81,-189.5 136,-189.5 \"/>\n<text text-anchor=\"middle\" x=\"108.5\" y=\"-174.3\" font-family=\"Times,serif\" font-size=\"14.00\">output:</text>\n<polyline fill=\"none\" stroke=\"black\" points=\"136,-166.5 136,-212.5 \"/>\n<text text-anchor=\"middle\" x=\"184.5\" y=\"-197.3\" font-family=\"Times,serif\" font-size=\"14.00\">(None, 80, 50)</text>\n<polyline fill=\"none\" stroke=\"black\" points=\"136,-189.5 233,-189.5 \"/>\n<text text-anchor=\"middle\" x=\"184.5\" y=\"-174.3\" font-family=\"Times,serif\" font-size=\"14.00\">(None, 80, 50)</text>\n</g>\n<!-- 139638487131008&#45;&gt;139638547821472 -->\n<g id=\"edge2\" class=\"edge\">\n<title>139638487131008-&gt;139638547821472</title>\n<path fill=\"none\" stroke=\"black\" d=\"M126,-249.37C126,-241.15 126,-231.66 126,-222.73\"/>\n<polygon fill=\"black\" stroke=\"black\" points=\"129.5,-222.61 126,-212.61 122.5,-222.61 129.5,-222.61\"/>\n</g>\n<!-- 139638487135952 -->\n<g id=\"node4\" class=\"node\">\n<title>139638487135952</title>\n<polygon fill=\"none\" stroke=\"black\" points=\"23.5,-83.5 23.5,-129.5 228.5,-129.5 228.5,-83.5 23.5,-83.5\"/>\n<text text-anchor=\"middle\" x=\"50\" y=\"-114.3\" font-family=\"Times,serif\" font-size=\"14.00\">lstm</text>\n<polyline fill=\"none\" stroke=\"black\" points=\"23.5,-106.5 76.5,-106.5 \"/>\n<text text-anchor=\"middle\" x=\"50\" y=\"-91.3\" font-family=\"Times,serif\" font-size=\"14.00\">LSTM</text>\n<polyline fill=\"none\" stroke=\"black\" points=\"76.5,-83.5 76.5,-129.5 \"/>\n<text text-anchor=\"middle\" x=\"104\" y=\"-114.3\" font-family=\"Times,serif\" font-size=\"14.00\">input:</text>\n<polyline fill=\"none\" stroke=\"black\" points=\"76.5,-106.5 131.5,-106.5 \"/>\n<text text-anchor=\"middle\" x=\"104\" y=\"-91.3\" font-family=\"Times,serif\" font-size=\"14.00\">output:</text>\n<polyline fill=\"none\" stroke=\"black\" points=\"131.5,-83.5 131.5,-129.5 \"/>\n<text text-anchor=\"middle\" x=\"180\" y=\"-114.3\" font-family=\"Times,serif\" font-size=\"14.00\">(None, 80, 50)</text>\n<polyline fill=\"none\" stroke=\"black\" points=\"131.5,-106.5 228.5,-106.5 \"/>\n<text text-anchor=\"middle\" x=\"180\" y=\"-91.3\" font-family=\"Times,serif\" font-size=\"14.00\">(None, 32)</text>\n</g>\n<!-- 139638547821472&#45;&gt;139638487135952 -->\n<g id=\"edge3\" class=\"edge\">\n<title>139638547821472-&gt;139638487135952</title>\n<path fill=\"none\" stroke=\"black\" d=\"M126,-166.37C126,-158.15 126,-148.66 126,-139.73\"/>\n<polygon fill=\"black\" stroke=\"black\" points=\"129.5,-139.61 126,-129.61 122.5,-139.61 129.5,-139.61\"/>\n</g>\n<!-- 139638548467952 -->\n<g id=\"node5\" class=\"node\">\n<title>139638548467952</title>\n<polygon fill=\"none\" stroke=\"black\" points=\"35.5,-0.5 35.5,-46.5 216.5,-46.5 216.5,-0.5 35.5,-0.5\"/>\n<text text-anchor=\"middle\" x=\"60.5\" y=\"-31.3\" font-family=\"Times,serif\" font-size=\"14.00\">dense</text>\n<polyline fill=\"none\" stroke=\"black\" points=\"35.5,-23.5 85.5,-23.5 \"/>\n<text text-anchor=\"middle\" x=\"60.5\" y=\"-8.3\" font-family=\"Times,serif\" font-size=\"14.00\">Dense</text>\n<polyline fill=\"none\" stroke=\"black\" points=\"85.5,-0.5 85.5,-46.5 \"/>\n<text text-anchor=\"middle\" x=\"113\" y=\"-31.3\" font-family=\"Times,serif\" font-size=\"14.00\">input:</text>\n<polyline fill=\"none\" stroke=\"black\" points=\"85.5,-23.5 140.5,-23.5 \"/>\n<text text-anchor=\"middle\" x=\"113\" y=\"-8.3\" font-family=\"Times,serif\" font-size=\"14.00\">output:</text>\n<polyline fill=\"none\" stroke=\"black\" points=\"140.5,-0.5 140.5,-46.5 \"/>\n<text text-anchor=\"middle\" x=\"178.5\" y=\"-31.3\" font-family=\"Times,serif\" font-size=\"14.00\">(None, 32)</text>\n<polyline fill=\"none\" stroke=\"black\" points=\"140.5,-23.5 216.5,-23.5 \"/>\n<text text-anchor=\"middle\" x=\"178.5\" y=\"-8.3\" font-family=\"Times,serif\" font-size=\"14.00\">(None, 1)</text>\n</g>\n<!-- 139638487135952&#45;&gt;139638548467952 -->\n<g id=\"edge4\" class=\"edge\">\n<title>139638487135952-&gt;139638548467952</title>\n<path fill=\"none\" stroke=\"black\" d=\"M126,-83.37C126,-75.15 126,-65.66 126,-56.73\"/>\n<polygon fill=\"black\" stroke=\"black\" points=\"129.5,-56.61 126,-46.61 122.5,-56.61 129.5,-56.61\"/>\n</g>\n</g>\n</svg>"
          },
          "metadata": {},
          "execution_count": 5
        }
      ]
    },
    {
      "cell_type": "markdown",
      "metadata": {
        "id": "8z7QmhEKUXhA"
      },
      "source": [
        "## Aprendizagem (Treino)\n",
        "\n",
        "Agora estamos prontos para treinar nosso modelo.\n",
        "\n",
        "Lembrem-se que uma * época * significa uma passagem por todos os dados de treinamento. Note também que estamos usando uma fração dos dados de treinamento como nosso conjunto de validação.\n",
        "\n",
        "Note que as camadas LSTMs são lentas para se treinar."
      ]
    },
    {
      "cell_type": "code",
      "metadata": {
        "id": "r8kzuV1HUXhB",
        "colab": {
          "base_uri": "https://localhost:8080/"
        },
        "outputId": "0ceec679-b3dc-4774-dbd5-eb2d7ee5cd0e"
      },
      "source": [
        "%%time\n",
        "epochs = 5\n",
        "validation_split = 0.2\n",
        "\n",
        "history = model.fit(x_train, y_train, batch_size=128,\n",
        "          epochs=epochs,\n",
        "          validation_split=validation_split)\n"
      ],
      "execution_count": null,
      "outputs": [
        {
          "output_type": "stream",
          "name": "stdout",
          "text": [
            "Epoch 1/5\n",
            "157/157 [==============================] - 18s 85ms/step - loss: 0.5621 - accuracy: 0.6931 - val_loss: 0.4247 - val_accuracy: 0.8200\n",
            "Epoch 2/5\n",
            "157/157 [==============================] - 6s 40ms/step - loss: 0.3622 - accuracy: 0.8453 - val_loss: 0.3703 - val_accuracy: 0.8372\n",
            "Epoch 3/5\n",
            "157/157 [==============================] - 3s 22ms/step - loss: 0.3032 - accuracy: 0.8755 - val_loss: 0.4170 - val_accuracy: 0.8078\n",
            "Epoch 4/5\n",
            "157/157 [==============================] - 2s 15ms/step - loss: 0.2733 - accuracy: 0.8912 - val_loss: 0.3887 - val_accuracy: 0.8422\n",
            "Epoch 5/5\n",
            "157/157 [==============================] - 2s 12ms/step - loss: 0.2456 - accuracy: 0.9065 - val_loss: 0.3734 - val_accuracy: 0.8392\n",
            "CPU times: user 22.8 s, sys: 1 s, total: 23.8 s\n",
            "Wall time: 32.2 s\n"
          ]
        }
      ]
    },
    {
      "cell_type": "markdown",
      "metadata": {
        "id": "8qlIHjvgUXhD"
      },
      "source": [
        "Vamos plotar os dados para ver como o treinamento progrediu.\n",
        "\n",
        "Obs: Se observarmos um grande gap entre os valores de precisões de treinamento e validação isso normalmente sugere overfitting."
      ]
    },
    {
      "cell_type": "code",
      "metadata": {
        "id": "yvr_3Gj5UXhD",
        "colab": {
          "base_uri": "https://localhost:8080/",
          "height": 619
        },
        "outputId": "b3e764c0-ad05-4ff2-a14b-b5862bbd65a7"
      },
      "source": [
        "plt.figure(figsize=(5,3))\n",
        "plt.plot(history.epoch,history.history['loss'], label='training')\n",
        "plt.plot(history.epoch,history.history['val_loss'], label='validation')\n",
        "plt.title('loss')\n",
        "plt.legend(loc='best')\n",
        "\n",
        "plt.figure(figsize=(5,3))\n",
        "plt.plot(history.epoch,history.history['accuracy'], label='training')\n",
        "plt.plot(history.epoch,history.history['val_accuracy'], label='validation')\n",
        "plt.title('accuracy')\n",
        "plt.legend(loc='best');"
      ],
      "execution_count": null,
      "outputs": [
        {
          "output_type": "display_data",
          "data": {
            "text/plain": [
              "<Figure size 500x300 with 1 Axes>"
            ],
            "image/png": "[encoded data removed]"
          },
          "metadata": {}
        },
        {
          "output_type": "display_data",
          "data": {
            "text/plain": [
              "<Figure size 500x300 with 1 Axes>"
            ],
            "image/png": "[encoded data removed]"
          },
          "metadata": {}
        }
      ]
    },
    {
      "cell_type": "markdown",
      "metadata": {
        "id": "7I5ASZm5UXhG"
      },
      "source": [
        "## Inferências e Insights\n",
        "\n",
        "Para melhor verificarmos a qualidade do modelo calculamos então nossa acurácia para os dados de teste:"
      ]
    },
    {
      "cell_type": "code",
      "metadata": {
        "id": "iX7YM6lAUXhH",
        "colab": {
          "base_uri": "https://localhost:8080/"
        },
        "outputId": "3dfeb0fd-5ba9-4b08-e890-dac8d08ce612"
      },
      "source": [
        "scores = model.evaluate(x_test, y_test, verbose=2)\n",
        "print(\"%s: %.2f%%\" % (model.metrics_names[1], scores[1]*100))"
      ],
      "execution_count": null,
      "outputs": [
        {
          "output_type": "stream",
          "name": "stdout",
          "text": [
            "782/782 - 2s - loss: 0.3790 - accuracy: 0.8386 - 2s/epoch - 3ms/step\n",
            "accuracy: 83.86%\n"
          ]
        }
      ]
    }
  ]
}